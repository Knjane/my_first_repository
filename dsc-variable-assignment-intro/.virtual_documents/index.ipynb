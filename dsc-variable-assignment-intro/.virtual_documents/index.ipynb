


a_float = 3.0
a_float



"Kennedy Njane"


my_name = "Kennedy Njane"
my_name















"Art Vandelay"





email = "art.vandelay@vandelay.com"


my_email = "kennedy.njane@student.moringaschool.com"
my_email









email








website = "vandelay.com"
website





full_name





full_name = 'Art Vandelay'
full_name





email








"Unassigned data"





None


type(None)





address = None





address











"Send an email to Art Vandelay at 'art.vandelay@vandelay.com' to say how nice it was meeting yesterday."





"Send an email to " + full_name + " at " + email +  " to say how nice it was meeting yesterday."





full_name = 'Liz Kaplan'
email = 'liz@ka-plan.com'





full_name # 'Liz Kaplan'


email # 'liz@ka-plan.com'





"Send an email to " + full_name + " at " + email +  " to say how nice it was meeting yesterday."









