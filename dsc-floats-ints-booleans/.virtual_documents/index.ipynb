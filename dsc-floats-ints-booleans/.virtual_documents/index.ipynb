


1 + 1


2 * 5





type(10)


type(10.2)





10 + 0.75





type(True)





"Homer Simpson".endswith("Simpson")


"Homer Simpson".endswith("Homer")





3 * 5 < 10














"west 34th street"





"34th street".title()





34 < 22





"34th street" < 22





int('34') < 22
# False





str(34) + 'th Street'





bool(100)


bool(0)









