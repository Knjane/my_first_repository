{
 "cells": [
  {
   "cell_type": "markdown",
   "metadata": {},
   "source": [
    "# While Loops, Break and Continue - Lab"
   ]
  },
  {
   "cell_type": "markdown",
   "metadata": {},
   "source": [
    "## Introduction\n",
    "In this lab, we will practice using `while` loops, and `break` and `continue` statements in our code. We will use our control flow statements to iterate through collections and filter out or selectively operate on each element. We'll use `while` loops to perform operations until a given condition is no longer true. "
   ]
  },
  {
   "cell_type": "markdown",
   "metadata": {},
   "source": [
    "## Objectives\n",
    "You will be able to:\n",
    "\n",
    "* Use a `while` loop\n",
    "* Use `break` and `continue` to add control flow to a `while` loop"
   ]
  },
  {
   "cell_type": "markdown",
   "metadata": {},
   "source": [
    "## Instructions\n",
    "\n",
    "### While Loops\n",
    "\n",
    "Imagine a person named Agnes is finally ready to achieve her dream of becoming a competitive eater! Because the competition is so fierce, she knows she'll need to do lots of training to become number one.\n",
    "\n",
    "Her first regiment of training consists of eating pizza. Below is a `for` loop version of her training process. Using your knowledge of `while` loops, translate the pizza eating code below from a `for` loop to a `while` loop."
   ]
  },
  {
   "cell_type": "code",
   "execution_count": 3,
   "metadata": {},
   "outputs": [
    {
     "name": "stdout",
     "output_type": "stream",
     "text": [
      "Another slice eaten!\n",
      "Now eaten 1 slices!\n",
      "Another slice eaten!\n",
      "Now eaten 2 slices!\n",
      "Another slice eaten!\n",
      "Now eaten 3 slices!\n",
      "Another slice eaten!\n",
      "Now eaten 4 slices!\n",
      "Another slice eaten!\n",
      "Now eaten 5 slices!\n",
      "Another slice eaten!\n",
      "Now eaten 6 slices!\n"
     ]
    }
   ],
   "source": [
    "slices_of_pie = 6\n",
    "slices_eaten = 0\n",
    "\n",
    "for slice in range(slices_of_pie):\n",
    "    print('Another slice eaten!')\n",
    "    slices_eaten += 1\n",
    "    print('Now eaten {} slices!'.format(slices_eaten))"
   ]
  },
  {
   "cell_type": "code",
   "execution_count": 4,
   "metadata": {},
   "outputs": [
    {
     "name": "stdout",
     "output_type": "stream",
     "text": [
      "Another slice eaten!\n",
      "Now eaten 1 slices!\n",
      "Another slice eaten!\n",
      "Now eaten 2 slices!\n",
      "Another slice eaten!\n",
      "Now eaten 3 slices!\n",
      "Another slice eaten!\n",
      "Now eaten 4 slices!\n",
      "Another slice eaten!\n",
      "Now eaten 5 slices!\n",
      "Another slice eaten!\n",
      "Now eaten 6 slices!\n"
     ]
    }
   ],
   "source": [
    "slices_of_pie = 6\n",
    "slices_eaten = 0\n",
    "\n",
    "while slices_eaten < slices_of_pie:\n",
    "    print('Another slice eaten!')\n",
    "    slices_eaten += 1\n",
    "    print('Now eaten {} slices!'.format(slices_eaten))\n",
    "\n"
   ]
  },
  {
   "cell_type": "markdown",
   "metadata": {},
   "source": [
    "After a long night of training with pizza, Agnes sleeps like a rock. When she wakes up in the morning, she realizes that her journey is not over. It has only just begun! In the next cell, continue her training; this time she'll be eating pancakes. None of the pancakes are prepared yet, and she wants to determine how much time she'll have left over after making all the pancakes. Here are the important details:\n",
    "\n",
    "* Agnes has 1468 seconds allotted for breakfast today\n",
    "* Agnes will be making herself 5 pancakes\n",
    "* Each pancake takes 27 seconds to cook on each side\n",
    "* It takes an average of 5 seconds to either flip a pancake, add it or remove it from the pan\n",
    "* There is only room for one pancake at a time on the frying pan\n",
    "* Remember there are two sides to every pancake!  \n",
    "\n",
    "After Agnes cooks the 5 pancakes, how much time will she have left over to eat them? Use a while loop to find out below."
   ]
  },
  {
   "cell_type": "code",
   "execution_count": 5,
   "metadata": {},
   "outputs": [
    {
     "name": "stdout",
     "output_type": "stream",
     "text": [
      "After cooking all the pancakes, Agnes will have 1148 seconds left to eat them.\n"
     ]
    }
   ],
   "source": [
    "# Agnes' breakfast details\n",
    "total_time_allotted = 1468  # seconds\n",
    "pancakes_to_make = 5\n",
    "time_per_side = 27  # seconds per side\n",
    "time_for_flip_or_transfer = 5  # seconds per action\n",
    "pancake_cooking_time = (2 * time_per_side) + (2 * time_for_flip_or_transfer)  # total time per pancake\n",
    "total_cooking_time = 0\n",
    "pancakes_cooked = 0\n",
    "\n",
    "# Calculate the total cooking time using a while loop\n",
    "while pancakes_cooked < pancakes_to_make:\n",
    "    total_cooking_time += pancake_cooking_time\n",
    "    pancakes_cooked += 1\n",
    "\n",
    "# Calculate remaining time\n",
    "time_left = total_time_allotted - total_cooking_time\n",
    "\n",
    "# Output the result\n",
    "print(\"After cooking all the pancakes, Agnes will have {} seconds left to eat them.\".format(time_left))\n",
    "\n",
    "# write your while loop here\n",
    "\n",
    "# use a while loop to make 5 pancakes for breakfast\n",
    "# each pancake takes 27 seconds to cook on each side\n",
    "# it takes an average of 5 seconds to flip a pancake, add or remove a pancake from the pan.\n",
    "# you must decrease the time_for_breakfast each time you \n",
    "# add a pancake to the skillet (frying pan) or flip a pancake (i.e. 2 times per pancake)\n",
    "# there is only room for one pancake at a time\n",
    "\n",
    "\n",
    "\n",
    "# print out how much time is remaining"
   ]
  },
  {
   "cell_type": "code",
   "execution_count": 3,
   "metadata": {},
   "outputs": [
    {
     "name": "stdout",
     "output_type": "stream",
     "text": [
      "Making pancake 1...\n",
      "Cooked one side!\n",
      "Flipped the pancake!\n",
      "Cooked the other side!\n",
      "Removed the pancake from the pan!\n",
      "Pancake 1 is ready!\n",
      "\n",
      "Making pancake 2...\n",
      "Cooked one side!\n",
      "Flipped the pancake!\n",
      "Cooked the other side!\n",
      "Removed the pancake from the pan!\n",
      "Pancake 2 is ready!\n",
      "\n",
      "Making pancake 3...\n",
      "Cooked one side!\n",
      "Flipped the pancake!\n",
      "Cooked the other side!\n",
      "Removed the pancake from the pan!\n",
      "Pancake 3 is ready!\n",
      "\n",
      "Making pancake 4...\n",
      "Cooked one side!\n",
      "Flipped the pancake!\n",
      "Cooked the other side!\n",
      "Removed the pancake from the pan!\n",
      "Pancake 4 is ready!\n",
      "\n",
      "Making pancake 5...\n",
      "Cooked one side!\n",
      "Flipped the pancake!\n",
      "Cooked the other side!\n",
      "Removed the pancake from the pan!\n",
      "Pancake 5 is ready!\n",
      "\n",
      "Agnes has 1148 seconds left to eat her pancakes.\n"
     ]
    }
   ],
   "source": [
    "# Agnes' breakfast details\n",
    "total_time_allotted = 1468  # seconds\n",
    "pancakes_to_make = 5\n",
    "time_per_side = 27  # seconds per side\n",
    "time_for_flip_or_transfer = 5  # seconds per action\n",
    "\n",
    "# Variables to track the process\n",
    "pancakes_cooked = 0\n",
    "total_cooking_time = 0\n",
    "\n",
    "# Use a while loop to make 5 pancakes\n",
    "while pancakes_cooked < pancakes_to_make:\n",
    "    print(f\"Making pancake {pancakes_cooked + 1}...\")\n",
    "    # Cooking one side\n",
    "    total_cooking_time += time_per_side\n",
    "    print(\"Cooked one side!\")\n",
    "    total_cooking_time += time_for_flip_or_transfer\n",
    "    print(\"Flipped the pancake!\")\n",
    "    # Cooking the other side\n",
    "    total_cooking_time += time_per_side\n",
    "    print(\"Cooked the other side!\")\n",
    "    total_cooking_time += time_for_flip_or_transfer\n",
    "    print(\"Removed the pancake from the pan!\")\n",
    "    pancakes_cooked += 1\n",
    "    print(f\"Pancake {pancakes_cooked} is ready!\\n\")\n",
    "\n",
    "# Calculate remaining time\n",
    "time_left = total_time_allotted - total_cooking_time\n",
    "\n",
    "# Output the result\n",
    "print(f\"Agnes has {time_left} seconds left to eat her pancakes.\")\n"
   ]
  },
  {
   "cell_type": "markdown",
   "metadata": {},
   "source": [
    "## For Loops"
   ]
  },
  {
   "cell_type": "markdown",
   "metadata": {},
   "source": [
    "Fast forward 5 years, and Agnes has become an international competitive eating superstar. Using her starpower, she decides to open up a restaurant chain. As part of a promotional deal, at a grand opening, she tells her fans that if they are part of the first 30 people to the restaurant, there is a 50% chance that they'll receive free food. Agnes executes this by giving each of the first 30 people a number ranging from 0-29. All people who have an even number will receive free food, and all those with odd numbers will sadly remain hungry :(. Use a loop to create two lists below of:\n",
    "\n",
    "* `hungry_patrons`\n",
    "* `fed_patrons`\n",
    "\n",
    "All people will start out in the list of `hungry_patrons`, and only the lucky ones will move to `fed_patrons`.\n",
    "\n",
    "> **Hint:** You may find the [remove method](https://www.programiz.com/python-programming/methods/list/remove) to be useful for the next problem"
   ]
  },
  {
   "cell_type": "code",
   "execution_count": null,
   "metadata": {},
   "outputs": [],
   "source": [
    "# Initial list of hungry patrons\n",
    "line_of_hungry_patrons = list(range(0, 30))\n",
    "fed_patrons = []\n",
    "\n",
    "# Use a while loop to feed the hungry patrons with even numbers\n",
    "while line_of_hungry_patrons:\n",
    "    patron = line_of_hungry_patrons.pop(0)  # Remove the first patron in line\n",
    "    if patron % 2 == 0:  # Check if the patron has an even number\n",
    "        fed_patrons.append(patron)  # Add them to the fed_patrons list\n",
    "    else:\n",
    "        line_of_hungry_patrons.append(patron)  # Re-add odd-numbered patrons back\n",
    "\n",
    "# Print the final lists\n",
    "print(\"Fed Patrons:\", fed_patrons)\n",
    "print(\"Hungry Patrons:\", line_of_hungry_patrons)\n",
    "\n",
    "# use a for or while loop to feed the hungry patrons who have an even number\n",
    "# add the patrons with an even number to the fed_patrons list\n",
    "# then remove the even numbered patrons from the line_of_hungry_patrons\n",
    "# each list should contain 15 elements\n",
    "\n"
   ]
  },
  {
   "cell_type": "markdown",
   "metadata": {},
   "source": [
    "### `break` And `continue` Statements"
   ]
  },
  {
   "cell_type": "markdown",
   "metadata": {},
   "source": [
    "Agnes decides that she wants to start creating targeted advertisements for people. Here is a list of customer objects with information about their name, age, job, pet, and pet name. You'll use loops to find people that meet certain requirements for Agnes' targeted marketing. Write `for` loops with conditional statements in conjunction with `break` and `continue` to get the desired output."
   ]
  },
  {
   "cell_type": "code",
   "execution_count": null,
   "metadata": {},
   "outputs": [],
   "source": [
    "people = [\n",
    "    {'name': \"Daniel\", 'age': 29, 'job': \"Engineer\", 'pet': \"Cat\", 'pet_name': \"Gato\"}, \n",
    "    {'name': \"Katie\", 'age': 30, 'job': \"Teacher\", 'pet': \"Dog\", 'pet_name': \"Frank\"},\n",
    "    {'name': \"Owen\", 'age': 26, 'job': \"Sales person\", 'pet': \"Cat\", 'pet_name': \"Cosmo\"},\n",
    "    {'name': \"Josh\", 'age': 22, 'job': \"Student\", 'pet': \"Cat\", 'pet_name': \"Chat\"},\n",
    "    {'name': \"Estelle\", 'age': 35, 'job': \"French Diplomat\", 'pet': \"Dog\", 'pet_name': \"Gabby\"},\n",
    "    {'name': \"Gustav\", 'age': 24, 'job': \"Brewer\", 'pet': \"Dog\", 'pet_name': \"Helen\"}\n",
    "]\n",
    "\n",
    "# Example 1: Find the first customer who has a dog and stop searching\n",
    "for customer in people:\n",
    "    if customer[\"pet\"] == \"dog\":\n",
    "        print(f\"Targeted ad: {customer['name']} loves their dog {customer['pet_name']}!\")\n",
    "        break"
   ]
  },
  {
   "cell_type": "code",
   "execution_count": null,
   "metadata": {},
   "outputs": [],
   "source": [
    "# Example 2: Skip customers who are under 30 years old and find all others with a dog\n",
    "for customer in people:\n",
    "    if customer[\"age\"] < 30:\n",
    "        continue\n",
    "    if customer[\"pet\"] == \"dog\":\n",
    "        print(f\"Targeted ad: {customer['name']} (aged {customer['age']}) might love dog accessories for {customer['pet_name']}!\")"
   ]
  },
  {
   "cell_type": "code",
   "execution_count": null,
   "metadata": {},
   "outputs": [],
   "source": [
    "# Example 3: Find customers who are developers and stop once one is found\n",
    "for customer in customers:\n",
    "    if customer[\"job\"] == \"Developer\":\n",
    "        print(f\"Targeted ad: {customer['name']} is a developer! Promote coding gear to them.\")"
   ]
  },
  {
   "cell_type": "markdown",
   "metadata": {},
   "source": [
    "Use a `for` loop to find the first person in the list of people that has a dog as their pet. The iteration count shouldn't exceed 2. In your loop add a print statement that says\n",
    "\n",
    "```python\n",
    " \"{person} has a dog! Had to check {number} of records to find a dog owner.\"\n",
    "\n",
    "```\n",
    "The code has been started for you below: "
   ]
  },
  {
   "cell_type": "code",
   "execution_count": 11,
   "metadata": {},
   "outputs": [],
   "source": [
    "# Loop to find the first person with a dog, limited to 2 iterations\n",
    "iteration_count = 0\n",
    "\n",
    "for person in people:\n",
    "    iteration_count += 1\n",
    "    if person['pet'] == \"Dog\":\n",
    "        print(f\"{person['name']} has a dog! Had to check {iteration_count} record(s) to find a dog owner.\")\n",
    "        break\n",
    "    if iteration_count == 2:\n",
    "        print(f\"Checked {iteration_count} record(s), but no dog owner found.\")"
   ]
  },
  {
   "cell_type": "markdown",
   "metadata": {},
   "source": [
    "Now, use a `for` loop to create a list of all the cat owners who are under the age of 28."
   ]
  },
  {
   "cell_type": "code",
   "execution_count": null,
   "metadata": {},
   "outputs": [],
   "source": [
    "# List to store cat owners under the age of 28\n",
    "cat_owners_under_28 = []\n",
    "\n",
    "# Loop through the list of people\n",
    "for person in people:\n",
    "    if person['pet'] == \"Cat\" and person['age'] < 28:\n",
    "        cat_owners_under_28.append(person)\n",
    "\n",
    "# Print the result\n",
    "print(\"Cat owners under the age of 28:\", cat_owners_under_28)"
   ]
  },
  {
   "cell_type": "markdown",
   "metadata": {},
   "source": [
    "Use a `for` loop to find the first person who is above 29 years old. Use a print statement to state their name and how old they are."
   ]
  },
  {
   "cell_type": "code",
   "execution_count": 15,
   "metadata": {},
   "outputs": [],
   "source": [
    "# Loop to find the first person above 29 years old\n",
    "for person in people:\n",
    "    if person['age'] > 29:\n",
    "        print(f\"The first person above 29 years old is {person['name']}, who is {person['age']} years old.\")\n",
    "        break"
   ]
  },
  {
   "cell_type": "markdown",
   "metadata": {},
   "source": [
    "Use a `for` loop to create a list of people's names and another list of pet names for all the **dog owners**."
   ]
  },
  {
   "cell_type": "code",
   "execution_count": null,
   "metadata": {},
   "outputs": [],
   "source": [
    "# Lists to store the names of dog owners and their pet names\n",
    "dog_owners = []\n",
    "dog_pet_names = []\n",
    "\n",
    "# Loop through the list of people\n",
    "for person in people:\n",
    "    if person['pet'] == \"Dog\":\n",
    "        dog_owners.append(person['name'])\n",
    "        dog_pet_names.append(person['pet_name'])\n",
    "\n",
    "# Print the results\n",
    "print(\"Dog owners:\", dog_owners)\n",
    "print(\"Dog pet names:\", dog_pet_names)"
   ]
  },
  {
   "cell_type": "code",
   "execution_count": null,
   "metadata": {},
   "outputs": [],
   "source": [
    "## Level Up \n",
    "Use a `for` loop to create a list of odd numbers from the list of numbers from 0 to 100. Each time there is an odd number, add 10 to it and append it to `list_of_odd_numbers_plus_ten`. Stop adding numbers to the list when there are 35 numbers in it. Once you have reached 35 numbers, return the sum of the new list of numbers."
   ]
  },
  {
   "cell_type": "code",
   "execution_count": 1,
   "metadata": {},
   "outputs": [
    {
     "name": "stdout",
     "output_type": "stream",
     "text": [
      "List of odd numbers plus 10: [11, 13, 15, 17, 19, 21, 23, 25, 27, 29, 31, 33, 35, 37, 39, 41, 43, 45, 47, 49, 51, 53, 55, 57, 59, 61, 63, 65, 67, 69, 71, 73, 75, 77, 79]\n",
      "Sum of the new list: 1575\n"
     ]
    }
   ],
   "source": [
    "# Initialize variables\n",
    "list_of_odd_numbers_plus_ten = []\n",
    "count = 0  # To keep track of the number of odd numbers processed\n",
    "\n",
    "# Loop through numbers from 0 to 100\n",
    "for number in range(101):\n",
    "    if number % 2 != 0:  # Check if the number is odd\n",
    "        list_of_odd_numbers_plus_ten.append(number + 10)  # Add 10 to the odd number and append it\n",
    "        count += 1\n",
    "    if count == 35:  # Stop once we have 35 numbers\n",
    "        break\n",
    "\n",
    "# Calculate the sum of the new list\n",
    "sum_of_numbers = sum(list_of_odd_numbers_plus_ten)\n",
    "\n",
    "# Print the results\n",
    "print(\"List of odd numbers plus 10:\", list_of_odd_numbers_plus_ten)\n",
    "print(\"Sum of the new list:\", sum_of_numbers)\n"
   ]
  },
  {
   "cell_type": "markdown",
   "metadata": {},
   "source": [
    "## Summary"
   ]
  },
  {
   "cell_type": "markdown",
   "metadata": {},
   "source": [
    "In this lab, we practiced using `while` loops, which continue executing their block of code until the given condition is no longer true. This is useful for instances where we do not have a collection or do not need a collection to solve our problem, especially when we would only like to stop the process according to a certain condition. We then practiced using control flow statements, `break` and `continue`, to selectively operate on elements, append them to new lists, or assign them to new variables."
   ]
  }
 ],
 "metadata": {
  "kernelspec": {
   "display_name": "Python 3 (ipykernel)",
   "language": "python",
   "name": "python3"
  },
  "language_info": {
   "codemirror_mode": {
    "name": "ipython",
    "version": 3
   },
   "file_extension": ".py",
   "mimetype": "text/x-python",
   "name": "python",
   "nbconvert_exporter": "python",
   "pygments_lexer": "ipython3",
   "version": "3.12.2"
  },
  "toc": {
   "base_numbering": 1,
   "nav_menu": {},
   "number_sections": true,
   "sideBar": true,
   "skip_h1_title": false,
   "title_cell": "Table of Contents",
   "title_sidebar": "Contents",
   "toc_cell": false,
   "toc_position": {},
   "toc_section_display": true,
   "toc_window_display": false
  }
 },
 "nbformat": 4,
 "nbformat_minor": 2
}
